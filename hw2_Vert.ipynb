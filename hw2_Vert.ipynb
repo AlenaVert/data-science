{
  "nbformat": 4,
  "nbformat_minor": 0,
  "metadata": {
    "kernelspec": {
      "display_name": "Python 3",
      "language": "python",
      "name": "python3"
    },
    "language_info": {
      "codemirror_mode": {
        "name": "ipython",
        "version": 3
      },
      "file_extension": ".py",
      "mimetype": "text/x-python",
      "name": "python",
      "nbconvert_exporter": "python",
      "pygments_lexer": "ipython3",
      "version": "3.7.1"
    },
    "colab": {
      "name": "hw2_tensorflow.ipynb",
      "provenance": [],
      "collapsed_sections": [],
      "include_colab_link": true
    }
  },
  "cells": [
    {
      "cell_type": "markdown",
      "metadata": {
        "id": "view-in-github",
        "colab_type": "text"
      },
      "source": [
        "<a href=\"https://colab.research.google.com/github/AlenaVert/data-science/blob/master/hw2_Vert.ipynb\" target=\"_parent\"><img src=\"https://colab.research.google.com/assets/colab-badge.svg\" alt=\"Open In Colab\"/></a>"
      ]
    },
    {
      "cell_type": "markdown",
      "metadata": {
        "id": "R2-wC2qFuzNZ",
        "colab_type": "text"
      },
      "source": [
        "# Домашнее задание 2.\n",
        "\n",
        "Продолжаем знакомиться с библиотекой `tensorflow`."
      ]
    },
    {
      "cell_type": "code",
      "metadata": {
        "id": "B-PyCuRDuzNb",
        "colab_type": "code",
        "colab": {}
      },
      "source": [
        "import tensorflow as tf\n",
        "import numpy as np\n",
        "import matplotlib.pyplot as plt"
      ],
      "execution_count": 0,
      "outputs": []
    },
    {
      "cell_type": "markdown",
      "metadata": {
        "id": "WYzGrp8guzNg",
        "colab_type": "text"
      },
      "source": [
        "## Задание 1 -- tensorflow vs numpy (3 балла).\n",
        "\n",
        "Сравните скорость работы функций над массивами в фреймворках tensorflow и numpy. Для этого реализуйте на нампае и тф'е следующее:\n",
        "\n",
        " * Сумму квадратов диагональных элементов квадратной матрицы. Например для матрицы\n",
        "$$\n",
        " \\begin{pmatrix}\n",
        "     1& 0& 5\\\\\n",
        "     -2& 8& 12\\\\\n",
        "     4& 1& -5\n",
        " \\end{pmatrix}\n",
        "$$\n",
        " такая сумма будет равна $1^2 + 8^2 + (-5)^2 = 90$.\n",
        " * Угол между векторами в n-мерном пространстве. Напомним, что он вычисляется по формуле\n",
        " $$\n",
        "     \\arccos \\cfrac{\\left\\langle x, y\\right\\rangle}{||x||\\cdot ||y||}\n",
        " $$\n",
        "\n",
        " * Сумму элементов коммутатора квадратных матриц $A$ и $B$. Коммутатор матриц это матрица $C = AB - BA$.\n",
        " \n",
        "Постройте графики зависимости времени выполнения операций от размера массивов (в логарифмическй шкале) для каждой задачи для tensorflow и numpy (три рисунка, по два графика на рисунок). Элементы матриц выбирайте случайным образом (через модуль tf.random и np.random соотвтетственно). Какой фреймворк оказывается быстрее? Как Вы думаете, почему?\n",
        "\n",
        "Можете пользоваться образцом кода ниже.\n",
        "\n",
        "**Замечание**. Графики должны быть опрятными! Подписывайте оси и единицы измерения, указывайте легенду. За неопрятные графики оценка за задание может быть снижена.\n",
        "\n",
        "**Подсказка**. Функция time.time() возвращает время в секундах (с высокой точностью), прошедшее от 00:00 1 января 1970 года. Используйте её, чтобы посчитать, сколько длилось выполнение куска кода. Также вам могут пригодиться функции `tf.linalg.norm`, `tf.diag_part`, `tf.acos`, `tf.matmul`"
      ]
    },
    {
      "cell_type": "code",
      "metadata": {
        "id": "g85YLA_8uzNi",
        "colab_type": "code",
        "colab": {},
        "outputId": "88fa58f7-c1b3-4e59-ce6a-f77b46bd4fc6"
      },
      "source": [
        "import time\n",
        "\n",
        "sess = tf.Session()\n",
        "tf_time = []\n",
        "np_time = []\n",
        "ax = np.arange(101)\n",
        "\n",
        "# For tensorflow\n",
        "for n in range(101):\n",
        "    x = tf.random_uniform((n, n))\n",
        "    \n",
        "    y = tf.tensordot(tf.diag_part(x),tf.diag_part(x), axes=1)\n",
        "    \n",
        "    begin = time.time()\n",
        "    sess.run(y)\n",
        "    end = time.time()\n",
        "    time_spent = end - begin\n",
        "    # remember time_spent\n",
        "    tf_time.append(time_spent)\n",
        "    \n",
        "\n",
        "# The same but for numpy\n",
        "for n in range(101):\n",
        "    x_np = np.random.rand(n,n)\n",
        "    \n",
        "    begin = time.time()\n",
        "    \n",
        "    y_np = np.dot(np.diag(x_np),np.diag(x_np))\n",
        "    \n",
        "    end = time.time()\n",
        "    time_spent = end - begin\n",
        "    # remember time_spent\n",
        "    np_time.append(time_spent)\n",
        "    ...\n",
        "\n",
        "\n",
        "# plot results\n",
        "plt.plot(ax, tf_time, label=\"tensorflow time\")\n",
        "plt.plot(ax, np_time, label=\"numpy_time\")\n",
        "plt.legend()\n",
        "plt.xlabel('Size of square matrix') \n",
        "plt.ylabel('Time in seconds') \n",
        "plt.title('Сумма квадратов диагональных элементов')\n",
        "#plt.xscale(\"log\") \n",
        "plt.yscale(\"log\")\n",
        "plt.show()\n",
        "\n",
        "\n",
        "sess.close()"
      ],
      "execution_count": 0,
      "outputs": [
        {
          "output_type": "display_data",
          "data": {
            "image/png": "[encoded data removed]",
            "text/plain": [
              "<Figure size 432x288 with 1 Axes>"
            ]
          },
          "metadata": {
            "tags": [],
            "needs_background": "light"
          }
        }
      ]
    },
    {
      "cell_type": "markdown",
      "metadata": {
        "id": "yDrsdTYluzNl",
        "colab_type": "text"
      },
      "source": [
        "Как мы видим, tensorflow работает намного дольше, в то время как numpy выполняет ту же самую операцию за время, \n",
        "равное практически 0. Это все достаочно легко объяснить: библиотека tensorflow разрабатывалась для эффективной и \n",
        "быстрой работы на GPU, а numpy - нет). Если бы мы запускали данный код на GPU, то библиотека tensorflow сработала бы намного быстрее и показала лучший результат. Те же рассуждения относятся и к графикам, построенным ниже."
      ]
    },
    {
      "cell_type": "code",
      "metadata": {
        "id": "IyXvC2oiuzNm",
        "colab_type": "code",
        "colab": {},
        "outputId": "b8875f80-7fc6-47f9-f34f-493dd2fcc54c"
      },
      "source": [
        "sess = tf.Session()\n",
        "tf_time = []\n",
        "np_time = []\n",
        "ax = np.arange(101)\n",
        "\n",
        "# For tensorflow\n",
        "for n in range(101):\n",
        "    x1 = tf.random_uniform([n])\n",
        "    x2 = tf.random_uniform([n])\n",
        "    \n",
        "    y = tf.acos(tf.tensordot(x1,x2,axes=1)/(tf.linalg.norm(x1)*tf.linalg.norm(x2)))\n",
        "    \n",
        "    begin = time.time()\n",
        "    sess.run(y)\n",
        "    end = time.time()\n",
        "    time_spent = end - begin\n",
        "    # remember time_spent\n",
        "    tf_time.append(time_spent)\n",
        "    \n",
        "\n",
        "# The same but for numpy\n",
        "for n in range(101):\n",
        "    x_np1 = np.random.rand(n)\n",
        "    x_np2 = np.random.rand(n)\n",
        "    \n",
        "    begin = time.time()\n",
        "    \n",
        "    #y_np = np.arccos(np.dot(x_np1,x_np1)/(np.linalg.norm(x_np1, ord=1)*np.linalg.norm(x_np2, ord=1)))\n",
        "    #y_np = np.arccos(np.dot(x_np1,x_np1)/(np.linalg.norm(x_np1)*np.linalg.norm(x_np2)))\n",
        "    y_np = np.arccos(np.dot(x_np1,x_np2)/(np.linalg.norm(x_np1, ord=2)*np.linalg.norm(x_np2, ord=2)))\n",
        "    \n",
        "    end = time.time()\n",
        "    time_spent = end - begin\n",
        "    # remember time_spent\n",
        "    np_time.append(time_spent)\n",
        "    ...\n",
        "\n",
        "\n",
        "# plot results\n",
        "plt.plot(ax, tf_time, label=\"tensorflow time\")\n",
        "plt.plot(ax, np_time, label=\"numpy_time\")\n",
        "plt.legend()\n",
        "plt.xlabel('Size of square matrix') \n",
        "plt.ylabel('Time in seconds') \n",
        "plt.title('Угол между векторами в n-мерном пространстве')\n",
        "#plt.xscale(\"log\") \n",
        "plt.yscale(\"log\")\n",
        "plt.show()\n",
        "\n",
        "\n",
        "sess.close()"
      ],
      "execution_count": 0,
      "outputs": [
        {
          "output_type": "stream",
          "text": [
            "/anaconda3/lib/python3.7/site-packages/ipykernel_launcher.py:30: RuntimeWarning: invalid value encountered in double_scalars\n"
          ],
          "name": "stderr"
        },
        {
          "output_type": "display_data",
          "data": {
            "image/png": "[encoded data removed]",
            "text/plain": [
              "<Figure size 432x288 with 1 Axes>"
            ]
          },
          "metadata": {
            "tags": [],
            "needs_background": "light"
          }
        }
      ]
    },
    {
      "cell_type": "code",
      "metadata": {
        "id": "0gOFnl_suzNq",
        "colab_type": "code",
        "colab": {
          "base_uri": "https://localhost:8080/",
          "height": 295
        },
        "outputId": "5c359f63-ea2a-41cc-abf8-7461b121d38e"
      },
      "source": [
        "import time\n",
        "\n",
        "sess = tf.Session()\n",
        "tf_time = []\n",
        "np_time = []\n",
        "ax = np.arange(101)\n",
        "\n",
        "# For tensorflow\n",
        "for n in range(101):\n",
        "    x1 = tf.random_uniform((n, n))\n",
        "    x2 = tf.random_uniform((n, n))\n",
        "    \n",
        "    y = tf.reduce_sum(tf.tensordot(x1,x2, axes=1)-tf.tensordot(x2,x1, axes=1))\n",
        "    \n",
        "    begin = time.time()\n",
        "    sess.run(y)\n",
        "    end = time.time()\n",
        "    time_spent = end - begin\n",
        "    # remember time_spent\n",
        "    tf_time.append(time_spent)\n",
        "    \n",
        "\n",
        "# The same but for numpy\n",
        "for n in range(101):\n",
        "    x_np1 = np.random.rand(n,n)\n",
        "    x_np2 = np.random.rand(n,n)\n",
        "    \n",
        "    begin = time.time()\n",
        "    \n",
        "    y_np = np.sum(np.dot(x_np1,x_np2)-np.dot(x_np2,x_np1))\n",
        "    \n",
        "    end = time.time()\n",
        "    time_spent = end - begin\n",
        "    # remember time_spent\n",
        "    np_time.append(time_spent)\n",
        "    ...\n",
        "\n",
        "\n",
        "# plot results\n",
        "plt.plot(ax, tf_time, label=\"tensorflow time\")\n",
        "plt.plot(ax, np_time, label=\"numpy_time\")\n",
        "plt.legend()\n",
        "plt.xlabel('Size of square matrix') \n",
        "plt.ylabel('Time in seconds') \n",
        "plt.title('Сумму элементов коммутатора квадратных матриц')\n",
        "#plt.xscale(\"log\") \n",
        "plt.yscale(\"log\")\n",
        "plt.show()\n",
        "\n",
        "\n",
        "sess.close()"
      ],
      "execution_count": 2,
      "outputs": [
        {
          "output_type": "display_data",
          "data": {
            "image/png": "[encoded data removed]",
            "text/plain": [
              "<Figure size 432x288 with 1 Axes>"
            ]
          },
          "metadata": {
            "tags": []
          }
        }
      ]
    },
    {
      "cell_type": "markdown",
      "metadata": {
        "id": "VNQl5tftuzN8",
        "colab_type": "text"
      },
      "source": [
        "## Задание 2 -- градиенты и оптимайзеры (3 балла).\n",
        "\n",
        "Продолжим работать с датасетом MNIST с размером картинок 8х8."
      ]
    },
    {
      "cell_type": "code",
      "metadata": {
        "id": "eGEyu2GguzN9",
        "colab_type": "code",
        "colab": {}
      },
      "source": [
        "from sklearn.datasets import load_digits\n",
        "\n",
        "mnist = load_digits()\n",
        "\n",
        "X, y = mnist.data, mnist.target\n",
        "\n",
        "n_labels = len(np.unique(y))"
      ],
      "execution_count": 0,
      "outputs": []
    },
    {
      "cell_type": "markdown",
      "metadata": {
        "id": "w0bjv08muzN_",
        "colab_type": "text"
      },
      "source": [
        "Многие алгоритмы оптимизации имплементированы в `tensorflow`. В этом задании мы сравним их при одинаковых параметрах, а также переберём разные параметры для одного алгоритма.\n",
        "\n",
        "**Задание 2.1** (1.5 балла). Исследуйте вклад параметра momentum в методу `tf.train.MomentumOptimizer`. Для этого для разных значений momentum постройте графики значения функции потерь от номера итерации. При каких значениях momentum алгоритм сходится быстрее? Используйте `learning_rate=0.01`.\n",
        "\n",
        "**Замечание**. В этом задании используется многоклассовая логистическая регрессия. Не меняйте код модели в ячейке ниже."
      ]
    },
    {
      "cell_type": "code",
      "metadata": {
        "id": "dxBkmXdeuzN_",
        "colab_type": "code",
        "colab": {}
      },
      "source": [
        "tf.reset_default_graph()\n",
        "\n",
        "w = tf.Variable(np.ones((X.shape[1], n_labels)), dtype=\"float32\")\n",
        "X_input = tf.placeholder(\"float32\", (None, X.shape[1]))\n",
        "y_input = tf.placeholder(\"int32\", (None,))\n",
        "\n",
        "predicted = tf.nn.softmax(X_input @ w)\n",
        "loss = tf.losses.log_loss(tf.one_hot(y_input, depth=n_labels), predicted)"
      ],
      "execution_count": 0,
      "outputs": []
    },
    {
      "cell_type": "code",
      "metadata": {
        "id": "EbtvFn57uzOF",
        "colab_type": "code",
        "colab": {}
      },
      "source": [
        "def train(X, y, train_op, batch_size=16):\n",
        "    with tf.Session() as sess:\n",
        "        sess.run(tf.global_variables_initializer())\n",
        "        n_batch_train = len(X) // batch_size\n",
        "        for epoch in range(1):\n",
        "            loss_history = []\n",
        "            for b in range(n_batch_train):\n",
        "                _, loss_ = sess.run([train_op, loss], feed_dict={X_input: X[b*batch_size:(b+1)*batch_size],\n",
        "                                                                 y_input: y[b*batch_size:(b+1)*batch_size]\n",
        "                                                                 })\n",
        "                loss_history.append(loss_)\n",
        "    return loss_history"
      ],
      "execution_count": 0,
      "outputs": []
    },
    {
      "cell_type": "code",
      "metadata": {
        "id": "fTpTCDtjuzOG",
        "colab_type": "code",
        "colab": {}
      },
      "source": [
        "# YOUR CODE !"
      ],
      "execution_count": 0,
      "outputs": []
    },
    {
      "cell_type": "markdown",
      "metadata": {
        "id": "RqMN4kYiuzOI",
        "colab_type": "text"
      },
      "source": [
        "Ваш ответ: ..."
      ]
    },
    {
      "cell_type": "markdown",
      "metadata": {
        "id": "SZ4Y4rafuzOI",
        "colab_type": "text"
      },
      "source": [
        "**Задание 2.2** (0.5 баллa). Исследуйте вклад `learning_rate`. Для этого для разных значений `learning_rate` постройте графики значения функции потерь от номера итерации. При каких значениях длины шага градиентного спуска алгоритм сходится быстрее? Используйте параметр метод MomentumOptimizer с параметром, который вы считаете лучшим по итогам предыдущего задания."
      ]
    },
    {
      "cell_type": "code",
      "metadata": {
        "id": "8K8nhg1GuzOK",
        "colab_type": "code",
        "colab": {}
      },
      "source": [
        "# YOUR CODE !"
      ],
      "execution_count": 0,
      "outputs": []
    },
    {
      "cell_type": "markdown",
      "metadata": {
        "id": "wlHsZxR8uzOL",
        "colab_type": "text"
      },
      "source": [
        "Ваш ответ:"
      ]
    },
    {
      "cell_type": "markdown",
      "metadata": {
        "id": "xsiABkyDuzOM",
        "colab_type": "text"
      },
      "source": [
        "**Задание 2.3** (0.5 балла) Проделайте то же, что и в пункте выше, но используйте в качестве базового алгоритма оптимизации `Adam` с дефолтными параметрами."
      ]
    },
    {
      "cell_type": "code",
      "metadata": {
        "id": "-g9IFxKUuzOM",
        "colab_type": "code",
        "colab": {}
      },
      "source": [
        "# YOUR CODE !"
      ],
      "execution_count": 0,
      "outputs": []
    },
    {
      "cell_type": "markdown",
      "metadata": {
        "id": "8OzGotQkuzOO",
        "colab_type": "text"
      },
      "source": [
        "Ваш ответ: ..."
      ]
    },
    {
      "cell_type": "markdown",
      "metadata": {
        "id": "NyiCrT73uzOO",
        "colab_type": "text"
      },
      "source": [
        "**Задание 2.4** (0.5 балла) Сравните алгоритмы `Adam` и `Momentum` для данной задачи. Какой показывает себя лучше?"
      ]
    },
    {
      "cell_type": "code",
      "metadata": {
        "id": "DX3ZUIbPuzOP",
        "colab_type": "code",
        "colab": {}
      },
      "source": [
        "# YOUR CODE ! "
      ],
      "execution_count": 0,
      "outputs": []
    },
    {
      "cell_type": "markdown",
      "metadata": {
        "id": "qgCYeeGWuzOR",
        "colab_type": "text"
      },
      "source": [
        "Ваш ответ: ..."
      ]
    },
    {
      "cell_type": "markdown",
      "metadata": {
        "id": "y5kab1sNuzOS",
        "colab_type": "text"
      },
      "source": [
        "## Задание 3 -- наша первая нейросеть, часть 2 (4 балла).\n",
        "\n",
        "В этом задании мы напишем нейросеть для работы с датасетом MNIST размера 28х28. Исользовать можно только полносвязные (dense) слои! Для этого мы \"вытянем\" картинки 28х28 в длинный вектор размера 784."
      ]
    },
    {
      "cell_type": "code",
      "metadata": {
        "id": "aOI4ycGnuzOT",
        "colab_type": "code",
        "colab": {
          "base_uri": "https://localhost:8080/",
          "height": 368
        },
        "outputId": "df12d2e8-8944-4ad6-d406-c150040d39f6"
      },
      "source": [
        "from mnist import load_dataset\n",
        "\n",
        "X_train, y_train, X_test, y_test, _, _ = load_dataset()\n",
        "\n",
        "X_train = X_train.reshape(len(X_train), -1)\n",
        "X_test = X_test.reshape(len(X_test), -1)"
      ],
      "execution_count": 10,
      "outputs": [
        {
          "output_type": "error",
          "ename": "ModuleNotFoundError",
          "evalue": "ignored",
          "traceback": [
            "\u001b[0;31m---------------------------------------------------------------------------\u001b[0m",
            "\u001b[0;31mModuleNotFoundError\u001b[0m                       Traceback (most recent call last)",
            "\u001b[0;32m<ipython-input-10-da277967ebb3>\u001b[0m in \u001b[0;36m<module>\u001b[0;34m()\u001b[0m\n\u001b[0;32m----> 1\u001b[0;31m \u001b[0;32mfrom\u001b[0m \u001b[0mmnist\u001b[0m \u001b[0;32mimport\u001b[0m \u001b[0mload_dataset\u001b[0m\u001b[0;34m\u001b[0m\u001b[0;34m\u001b[0m\u001b[0m\n\u001b[0m\u001b[1;32m      2\u001b[0m \u001b[0;34m\u001b[0m\u001b[0m\n\u001b[1;32m      3\u001b[0m \u001b[0mX_train\u001b[0m\u001b[0;34m,\u001b[0m \u001b[0my_train\u001b[0m\u001b[0;34m,\u001b[0m \u001b[0mX_test\u001b[0m\u001b[0;34m,\u001b[0m \u001b[0my_test\u001b[0m\u001b[0;34m,\u001b[0m \u001b[0m_\u001b[0m\u001b[0;34m,\u001b[0m \u001b[0m_\u001b[0m \u001b[0;34m=\u001b[0m \u001b[0mload_dataset\u001b[0m\u001b[0;34m(\u001b[0m\u001b[0;34m)\u001b[0m\u001b[0;34m\u001b[0m\u001b[0;34m\u001b[0m\u001b[0m\n\u001b[1;32m      4\u001b[0m \u001b[0;34m\u001b[0m\u001b[0m\n\u001b[1;32m      5\u001b[0m \u001b[0mX_train\u001b[0m \u001b[0;34m=\u001b[0m \u001b[0mX_train\u001b[0m\u001b[0;34m.\u001b[0m\u001b[0mreshape\u001b[0m\u001b[0;34m(\u001b[0m\u001b[0mlen\u001b[0m\u001b[0;34m(\u001b[0m\u001b[0mX_train\u001b[0m\u001b[0;34m)\u001b[0m\u001b[0;34m,\u001b[0m \u001b[0;34m-\u001b[0m\u001b[0;36m1\u001b[0m\u001b[0;34m)\u001b[0m\u001b[0;34m\u001b[0m\u001b[0;34m\u001b[0m\u001b[0m\n",
            "\u001b[0;31mModuleNotFoundError\u001b[0m: No module named 'mnist'",
            "",
            "\u001b[0;31m---------------------------------------------------------------------------\u001b[0;32m\nNOTE: If your import is failing due to a missing package, you can\nmanually install dependencies using either !pip or !apt.\n\nTo view examples of installing some common dependencies, click the\n\"Open Examples\" button below.\n\u001b[0;31m---------------------------------------------------------------------------\u001b[0m\n"
          ]
        }
      ]
    },
    {
      "cell_type": "code",
      "metadata": {
        "id": "rYC4lSgUuzOU",
        "colab_type": "code",
        "colab": {}
      },
      "source": [
        "for i in [228, 1437, 322, 420, 69]:\n",
        "    plt.title(y_train[i])\n",
        "    plt.imshow(X_train[i].reshape((28, 28)))\n",
        "    plt.show()"
      ],
      "execution_count": 0,
      "outputs": []
    },
    {
      "cell_type": "markdown",
      "metadata": {
        "id": "uSmVL6gxuzOW",
        "colab_type": "text"
      },
      "source": [
        "Подберите архитектуру и алгоритм оптимизации так, чтобы значение accuracy на тестовой выборке было не менее 97.5."
      ]
    },
    {
      "cell_type": "code",
      "metadata": {
        "id": "PJt4I72tuzOW",
        "colab_type": "code",
        "colab": {}
      },
      "source": [
        "from sklearn.metrics import accuracy_score\n",
        "tf.reset_default_graph()\n",
        "\n",
        "def train_and_validate(X_train, y_train, X_test, y_test, train_op, batch_size=16):\n",
        "    with tf.Session() as sess:\n",
        "        sess.run(tf.global_variables_initializer())\n",
        "        n_batch_train = len(X_train) // batch_size\n",
        "        n_batch_test = len(X_test) // batch_size\n",
        "        for epoch in range(1):\n",
        "            loss_history_train = []\n",
        "            for b in range(n_batch_train):\n",
        "                _, loss_ = sess.run([train_op, loss], feed_dict={X_input: X_train[b*batch_size:(b+1)*batch_size],\n",
        "                                                                 y_input: y_train[b*batch_size:(b+1)*batch_size]\n",
        "                                                                 })\n",
        "                loss_history_train.append(loss_)\n",
        "\n",
        "        for epoch in range(1):\n",
        "            loss_history_test = []\n",
        "            prediction_history = []\n",
        "            for b in range(n_batch_test):\n",
        "                loss_, predicted_ = sess.run([loss, predicted], feed_dict={X_input: X_test[b*batch_size:(b+1)*batch_size],\n",
        "                                                                 y_input: y_test[b*batch_size:(b+1)*batch_size]\n",
        "                                                                 })\n",
        "                loss_history_test.append(loss_)\n",
        "                prediction_history += predicted_.argmax(-1).tolist()\n",
        "            print(\"Test accuracy: \", accuracy_score(y_test, prediction_history))\n",
        "    return loss_history_train, loss_history_test\n",
        "\n",
        "X_input = tf.placeholder(\"float32\", (None, 784)) # dim = [batch_size, 784]\n",
        "y_input = tf.placeholder(\"int32\", (None,)) # dim = [batch_size,]\n",
        "\n",
        "layer1 = #<define architecture as a function of X_input>\n",
        "...\n",
        "predicted = #<define 10-class outputs>\n",
        "\n",
        "loss = #<define log loss with one-hot vector of labels\n",
        "train_op = #<define train operation here>\n",
        "\n",
        "loss_history_train, loss_history_test = train_and_validate(X_train, y_train, X_test, y_test, train_op)"
      ],
      "execution_count": 0,
      "outputs": []
    },
    {
      "cell_type": "markdown",
      "metadata": {
        "id": "wxPSz5S4uzOX",
        "colab_type": "text"
      },
      "source": [
        "## Задание 4 (0.1 баллов).\n",
        "\n",
        "**Задание 4.1**. (0.1 баллов) Оставьте ниже смешную картинку (желательно про машинное обучение). Лучшую картинку мы поставим на аватарку чатика \"Флуд про ИАД\"."
      ]
    },
    {
      "cell_type": "markdown",
      "metadata": {
        "id": "9BlSxAn5uzOY",
        "colab_type": "text"
      },
      "source": [
        "https://www.google.com/url?sa=i&rct=j&q=&esrc=s&source=images&cd=&cad=rja&uact=8&ved=2ahUKEwimn8PCo4flAhVs16YKHbDnBJQQjRx6BAgBEAQ&url=%2Furl%3Fsa%3Di%26rct%3Dj%26q%3D%26esrc%3Ds%26source%3Dimages%26cd%3D%26ved%3D%26url%3Dhttps%253A%252F%252Fwww.meme-arsenal.com%252Fcreate%252Fmeme%252F537681%26psig%3DAOvVaw3VqU9B1ikZxKtcZRKMbvTP%26ust%3D1570438947879731&psig=AOvVaw3VqU9B1ikZxKtcZRKMbvTP&ust=1570438947879731"
      ]
    },
    {
      "cell_type": "markdown",
      "metadata": {
        "id": "l-aCdDeVuzOY",
        "colab_type": "text"
      },
      "source": [
        "**Задание 4.2**. Напищите ниже фидбек по заданию и по курсу в целом. "
      ]
    },
    {
      "cell_type": "code",
      "metadata": {
        "id": "ifyrPKuxuzOZ",
        "colab_type": "code",
        "colab": {}
      },
      "source": [
        "Очень-очень не хватает лекций. Хочется услышать все эти лекции в живую с возможностью спросить, уточнить, попросить \n",
        "больше примеров для лучшего понимания. Курс весьмя интересный и познавательный, приходится много искать и учить самой.\n",
        "Достаточно не просто понять все с первого раза на семинаре."
      ],
      "execution_count": 0,
      "outputs": []
    }
  ]
}